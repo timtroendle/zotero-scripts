{
 "cells": [
  {
   "cell_type": "markdown",
   "metadata": {},
   "source": [
    "# update-date-added\n",
    "\n",
    "This script takes the 'date-added' field from a bibtex file, searches the entry with the same name in a Zotero database, and updates the 'date-added' in the Zotero database with the one from the bibtex. It hence assumes that the Zotero database contains the entries from the bibtex.\n",
    "\n",
    "Why would you want to do that?\n",
    "\n",
    "When you migrate from another reference manager to Zotero. Zotero does not import the date-added field. Hence, you would want to run this script after you've imported all references."
   ]
  },
  {
   "cell_type": "code",
   "execution_count": null,
   "metadata": {},
   "outputs": [],
   "source": [
    "import datetime\n",
    "import sqlite3\n",
    "\n",
    "import bibtexparser\n",
    "from bibtexparser.bparser import BibTexParser\n",
    "from bibtexparser.customization import convert_to_unicode"
   ]
  },
  {
   "cell_type": "markdown",
   "metadata": {},
   "source": [
    "## File Defintions"
   ]
  },
  {
   "cell_type": "code",
   "execution_count": null,
   "metadata": {},
   "outputs": [],
   "source": [
    "ZOTERO_SQL_FILE = '/<path-to-file>'\n",
    "BIBTEX_FILE = '/<path-to-file>'"
   ]
  },
  {
   "cell_type": "markdown",
   "metadata": {},
   "source": [
    "## Functions"
   ]
  },
  {
   "cell_type": "code",
   "execution_count": null,
   "metadata": {},
   "outputs": [],
   "source": [
    "BIBTEX_REPLACEMENTS = {\n",
    "    \"{\\\\textquoteleft}\": \"‘\",\n",
    "    \"{\\\\textquoteright}\": \"’\",\n",
    "    \"{\\\\textemdash}\": \"—\",\n",
    "    \"?!\": \"⁈\",\n",
    "    \"{\\\\textendash}\": \"–\",\n",
    "    \"\\u2009{\\textdegree}\": \" °\",\n",
    "    \"{&}\": \"&\",\n",
    "    \"ß\": \"\\s s\"\n",
    "}\n",
    "\n",
    "\n",
    "def update_entry(entry_title, new_date_added, conn):\n",
    "    \"\"\"Updates 'date-added' of Zotero entry.\n",
    "    \n",
    "    Parameters:\n",
    "        * entry_title: the title of the entry\n",
    "        * new_date_added: the date-added to replace the existing one\n",
    "        * conn: a connection to the Zotero sqlite database\n",
    "        \n",
    "    Raises:\n",
    "        * Valueerror if entry cannot be found or title is ambigious.\n",
    "    \"\"\"\n",
    "    cursor = conn.execute('SELECT items.dateAdded, items.key \\\n",
    "                          FROM itemData \\\n",
    "                          INNER JOIN items ON items.itemID=itemData.itemID \\\n",
    "                          INNER JOIN itemDataValues ON itemDataValues.valueID=itemData.valueID \\\n",
    "                          INNER JOIN fields ON itemData.fieldID=fields.fieldID \\\n",
    "                          where itemDataValues.value=\"{}\" and fields.fieldName=\"title\";'.format(entry_title))\n",
    "    all_entries = list(cursor)\n",
    "    if len(all_entries) == 0:\n",
    "        msg = \"Did not find entry with title {} added on {}. Skipping.\".format(entry_title, new_date_added)\n",
    "        raise ValueError(msg)\n",
    "    elif len(all_entries) > 1:\n",
    "        msg = \"Found several entries with title {}. Skipping.\".format(entry_title)\n",
    "        raise ValueError(msg)\n",
    "    entry = all_entries[0]\n",
    "    key = entry[1]\n",
    "    conn.execute('UPDATE items \\\n",
    "                  SET dateAdded=\"{}\" \\\n",
    "                  WHERE items.key=\"{}\";'.format(new_date_added.strftime(\"%Y-%m-%d %T\"), key))\n",
    "        \n",
    "\n",
    "def entries_and_their_date_added(path_to_bibtex):\n",
    "    \"\"\"Extracts title and date added from bibtex file.\"\"\"\n",
    "    with open(path_to_bibtex) as bibtex_file:\n",
    "        bibtex_str = bibtex_file.read()\n",
    "\n",
    "    parser = BibTexParser()\n",
    "    parser.customization = convert_to_unicode\n",
    "    bib_database = bibtexparser.loads(bibtex_str, parser=parser)\n",
    "    for entry in bib_database.entries:\n",
    "        title = entry[\"title\"]\n",
    "        for original, replacement in BIBTEX_REPLACEMENTS.items():\n",
    "            title = title.replace(original, replacement)\n",
    "        new_date_added = datetime.datetime.strptime(entry[\"date-added\"], \"%Y-%m-%dT%H:%M:%S%Z\") \n",
    "        yield (title, new_date_added)"
   ]
  },
  {
   "cell_type": "markdown",
   "metadata": {},
   "source": [
    "## Execution"
   ]
  },
  {
   "cell_type": "code",
   "execution_count": null,
   "metadata": {},
   "outputs": [],
   "source": [
    "response = input(\"Updating '{}' based on '{}'.\\nAre you sure? Is Zotero closed? [y/n].\".format(ZOTERO_SQL_FILE, BIBTEX_FILE))\n",
    "if response != \"y\":\n",
    "    print(\"Aborted.\")\n",
    "with sqlite3.connect(ZOTERO_SQL_FILE) as conn:\n",
    "    for entry, new_date_added in entries_and_their_date_added(BIBTEX_FILE):\n",
    "        try:\n",
    "            update_entry(entry_title=entry, new_date_added=new_date_added, conn=conn)\n",
    "        except ValueError as ve:\n",
    "            print(ve)"
   ]
  },
  {
   "cell_type": "code",
   "execution_count": null,
   "metadata": {},
   "outputs": [],
   "source": []
  }
 ],
 "metadata": {
  "kernelspec": {
   "display_name": "Python 3",
   "language": "python",
   "name": "python3"
  },
  "language_info": {
   "codemirror_mode": {
    "name": "ipython",
    "version": 3
   },
   "file_extension": ".py",
   "mimetype": "text/x-python",
   "name": "python",
   "nbconvert_exporter": "python",
   "pygments_lexer": "ipython3",
   "version": "3.6.2"
  }
 },
 "nbformat": 4,
 "nbformat_minor": 2
}
